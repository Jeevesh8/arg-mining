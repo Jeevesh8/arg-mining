{
  "nbformat": 4,
  "nbformat_minor": 0,
  "metadata": {
    "colab": {
      "name": "convokit_winning_args.ipynb",
      "provenance": [],
      "authorship_tag": "ABX9TyMmjidbl6qPLP5YigNdtk7H",
      "include_colab_link": true
    },
    "kernelspec": {
      "name": "python3",
      "display_name": "Python 3"
    },
    "language_info": {
      "name": "python"
    }
  },
  "cells": [
    {
      "cell_type": "markdown",
      "metadata": {
        "id": "view-in-github",
        "colab_type": "text"
      },
      "source": [
        "<a href=\"https://colab.research.google.com/github/Jeevesh8/arg-mining/blob/main/winning_args/convokit_winning_args.ipynb\" target=\"_parent\"><img src=\"https://colab.research.google.com/assets/colab-badge.svg\" alt=\"Open In Colab\"/></a>"
      ]
    },
    {
      "cell_type": "code",
      "metadata": {
        "id": "_g0CcQH34MJJ"
      },
      "source": [
        "!pip3 install convokit"
      ],
      "execution_count": null,
      "outputs": []
    },
    {
      "cell_type": "code",
      "metadata": {
        "id": "EXSP5wct3qDM"
      },
      "source": [
        "from convokit import Corpus, download\n",
        "corpus = Corpus(filename=download(\"winning-args-corpus\"))"
      ],
      "execution_count": null,
      "outputs": []
    },
    {
      "cell_type": "code",
      "metadata": {
        "colab": {
          "base_uri": "https://localhost:8080/"
        },
        "id": "YvWZRUMt4rtN",
        "outputId": "ba926ce6-8f5d-44d9-ddc6-ca7bea90449f"
      },
      "source": [
        "type(corpus)"
      ],
      "execution_count": 3,
      "outputs": [
        {
          "output_type": "execute_result",
          "data": {
            "text/plain": [
              "convokit.model.corpus.Corpus"
            ]
          },
          "metadata": {},
          "execution_count": 3
        }
      ]
    },
    {
      "cell_type": "code",
      "metadata": {
        "colab": {
          "base_uri": "https://localhost:8080/"
        },
        "id": "5DrSobmE46FT",
        "outputId": "0653922c-359e-4e38-f048-6fa6cc4ed21c"
      },
      "source": [
        "corpus.print_summary_stats()"
      ],
      "execution_count": 5,
      "outputs": [
        {
          "output_type": "stream",
          "text": [
            "Number of Speakers: 34911\n",
            "Number of Utterances: 293297\n",
            "Number of Conversations: 3051\n"
          ],
          "name": "stdout"
        }
      ]
    },
    {
      "cell_type": "markdown",
      "metadata": {
        "id": "KYvPRXtyBUoB"
      },
      "source": [
        "## Loop over the dataset getting threads"
      ]
    },
    {
      "cell_type": "code",
      "metadata": {
        "colab": {
          "base_uri": "https://localhost:8080/"
        },
        "id": "3_uG-hFd5E4T",
        "outputId": "3b03f0f4-cb29-41e4-d66c-6a6a8268e1f3"
      },
      "source": [
        "for elem in corpus.iter_objs(\"conversation\"):\n",
        "    print(\"Common Title:\", elem.meta[\"op-title\"])\n",
        "    for path in elem.get_root_to_leaf_paths():\n",
        "        for utterance in path:\n",
        "            print(utterance.text)\n",
        "        break\n",
        "    break"
      ],
      "execution_count": 30,
      "outputs": [
        {
          "output_type": "stream",
          "text": [
            "Common Title: CMV: Anything that is man-made is natural.\n",
            "I can't remember the topic that spurred this discussion, but a friend and I were debating whether man-made things were natural. He took the position that they are unnatural. \n",
            "\n",
            "He cited this definition by Merriam-Webster:  existing in nature and not made or caused by people : coming from nature (http://www.merriam-webster.com/dictionary/natural) as his basis for the distinction for natural vs. unnatural.\n",
            "\n",
            "However, I respectfully disagree with his position and furthermore that definition of natural. People arise from nature. Humankind's capacity to create, problem-solve, analyze, rationalize, and build also come from natural processes. How are the things we create unnatural? It is only through natural occurrences that we have this ability, why is it that we would give the credit of these things solely to man, as opposed to nature? We are not separate from nature, thus, how can any of our actions or creations be unnatural? If we were somehow separate from nature, I would understand the distinction between natural and man-made. However, I think unnatural and man-made are not synonyms by any means. It seems to me that man-made things MUST be natural due to our being part of nature. \n",
            "\n",
            "I would love to hear your arguments and to have my view changed if I am mistaken in my logic somewhere along the line.\n",
            "\n",
            "EDIT: Thanks for your responses lads. As many of you pointed out, our argument depends more on the context of the use of the word and I think that my friend and I were arguing about the semantics and definition more than our intended meaning behind use of the word \"natural\".\n",
            "I like to think of it as natural products can be found in nature in the form we use them regularly (without the need for a chemical transformation). If the only way the product is created is in a laboratory, factory or anything resulting from human activity than it could be called \"unnatural\", or synthetic/man-made if you want to avoid the negative connotation of unnatural. Even though all transformations from the raw material to the final product must follow natural laws, it does not mean that the transformations would ever occur naturally, without human intervention. Sure you can expand the definition of natural to include these man-made products, but if you were to do that, the word natural loses its ability to describe things and differentiate between things we find and use and things we have to chemically alter or create. If this were the case you would need to describe things as \"not synthetically made\" to gain an edge over man-made products that are marketed as natural.\n",
            "\n",
            "I'll try to give an example without getting overly scientific but trans fats aren't natural, by this definition. To my knowledge trans fats rarely occur naturally, if ever. This is because when fats are formed, they arrange the elememts in a different orientation, known as cis. One way that the kther form, trans fats are formed is at high heats when the chemical bonds in the fat are broken and the alternative arrangement of bonds is formed in the trans arrangement. If i remeber correctly, one way trans fats are made is when oil is reused after frying. Obviously, no natural laws were broken when the trans fats were made so I guess you could call them natural. However this type of fat is never seen in nature, so when humans digest it, supposedly bad things happen. I think this is because it is in a form that our bodies have never seen before. For this reason I would argue that it's fair to call trans fats unnatural. If you want to change the word so it doesn't interfere with the idea that we are a part of nature call them man-made products or synthetic or something. But I feel as though in order to keep everyone informed about the food they are eating, and products they are buying, there has to be a distinction.\n",
            "\n",
            "I don't feel like all synthetic products are bad, for example polyester and polymers have changed the world, and continue to do so. Especially the ones that combine different chemicals that are never combined naturally to get the most desirable charecteristics from each separate natural chemical. There are a ton of great man-made products like teflon and other coatings. They just don't occur naturally.\n",
            "\n",
            "One more point is that the view that everything is natural is often used to market products, many of the \"natural flavors\" in food are created synthetically. Although I'm not completely sure if the chemicals they make are found in nature, many of them probably do. But this raises another question, does it matter how we obtain the chemicals, or just if they are observed in nature when we use the word natural?\n",
            "\n"
          ],
          "name": "stdout"
        }
      ]
    },
    {
      "cell_type": "markdown",
      "metadata": {
        "id": "L0_mUcmVBTcz"
      },
      "source": [
        "## Generating Subtrees"
      ]
    },
    {
      "cell_type": "code",
      "metadata": {
        "id": "gz4gJCCnB_Od"
      },
      "source": [
        "def size_subtrees(tree: convokit.model.UtteranceNode,\n",
        "                  tokenizer: transformers.PreTrainedTokenizer,\n",
        "                  extra_tokens: int = 1):\n",
        "    \"\"\"\n",
        "    Args:\n",
        "        tree:         The convokit Winning Arguments utterance node whose subtrees are to be measured. \n",
        "        tokenizer:    Tokenizer that will be used to tokenize the sentences in the tree;\n",
        "                      must implement encode() functionality.\n",
        "        extra_tokens: Expected number of extra tokens that will be added to the 'body'\n",
        "                      of each comment.[e.g., user tags or post tags]\n",
        "    Returns:\n",
        "        Modified tree, with extra 'subtree_size' attribute at each node(n) that denotes the\n",
        "        length of tokenizing the combined version of all the 'body' attributes of (all the\n",
        "        nodes in the subtree(n) and the node (n) itself). Stored in root.utt.meta.\n",
        "    \"\"\"\n",
        "    def core_recursion(root : convokit.model.UtteranceNode):\n",
        "        self_length = len(tokenizer.encode(root.utt.text)) + extra_tokens\n",
        "\n",
        "        for subroot in root.children:\n",
        "            self_length += (core_recursion(subroot) - 2)  \n",
        "            # -2 for <s> </s> tokens, they are already counted in initial val of self_length\n",
        "\n",
        "        root.utt.meta[\"subtree_size\"] = self_length\n",
        "        return self_length\n",
        "\n",
        "    unused_entire_tree_length = core_recursion(root)\n",
        "\n",
        "    return root"
      ],
      "execution_count": null,
      "outputs": []
    },
    {
      "cell_type": "code",
      "metadata": {
        "id": "xOvDqraVHr_k"
      },
      "source": [
        "def subtree_generator(tokenizer: transformers.PreTrainedTokenizer,\n",
        "                      corpus: convokit.model.Corpus,\n",
        "                      max_token_length: int = 4096)\n",
        "    \"\"\"A generator that yields nodes(n) in the tree, such that the maximum\n",
        "    number of tokens in the all the utterances(combined) of the subtree rooted \n",
        "    at n is bounded above by max_token_length.\n",
        "    \"\"\"\n",
        "    \n",
        "    def gen_subtrees(root: convokit.model.UtteranceNode):\n",
        "        if root.utt.meta[\"subtree_size\"]<=max_token_length:\n",
        "            yield root\n",
        "        else:\n",
        "            for child in root.children:\n",
        "                for subroot in gen_subtress(child):\n",
        "                    yield subroot\n",
        "\n",
        "    for elem in corpus.iter_objs(\"conversation\"):\n",
        "        root = elem.get_subtree(elem.id)\n",
        "        root = size_subtrees(tree, tokenizer)\n",
        "        for subroot in gen_subtrees(root):\n",
        "            yield subroot\n",
        "    "
      ],
      "execution_count": null,
      "outputs": []
    },
    {
      "cell_type": "markdown",
      "metadata": {
        "id": "fx2zDERcKvvu"
      },
      "source": [
        "## Experiment & Try Outs"
      ]
    },
    {
      "cell_type": "code",
      "metadata": {
        "colab": {
          "base_uri": "https://localhost:8080/"
        },
        "id": "4RpIp8VP_AvZ",
        "outputId": "21392c8c-4e89-45c9-a677-5fcbca777bb0"
      },
      "source": [
        "for elem in corpus.iter_objs(\"conversation\"):\n",
        "    while True:\n",
        "        \n",
        "        for att in dir(elem):\n",
        "            if not att.startswith(\"__\"):\n",
        "                print(att)\n",
        "        \n",
        "        print(\"\\n\\n\")\n",
        "        \n",
        "        subtree = elem.get_subtree(elem.id)\n",
        "        print(type(subtree))\n",
        "        \n",
        "        for att in dir(subtree):\n",
        "            if not att.startswith(\"__\"):\n",
        "                print(att)\n",
        "        \n",
        "        #Can store new attributes here\n",
        "        subtree.utt.meta[\"subtree_size\"] = 4096\n",
        "        \n",
        "        print(subtree.utt.meta)\n",
        "\n",
        "        print(\"\\n\\n\")\n",
        "\n",
        "        for child in subtree.children:\n",
        "            print(\"Child type:\", type(child))\n",
        "            break\n",
        "        \n",
        "        print(\"\\n\\n\")\n",
        "\n",
        "        for elem in subtree.pre_order():\n",
        "            print(elem.utt.text)\n",
        "            break\n",
        "                \n",
        "        break\n",
        "    break"
      ],
      "execution_count": 51,
      "outputs": [
        {
          "output_type": "stream",
          "text": [
            "_add_utterance\n",
            "_get_path_from_leaf_to_root\n",
            "_id\n",
            "_owner\n",
            "_print_convo_helper\n",
            "_speaker_ids\n",
            "_utterance_ids\n",
            "add_meta\n",
            "add_vector\n",
            "check_integrity\n",
            "delete_vector\n",
            "get_chronological_speaker_list\n",
            "get_chronological_utterance_list\n",
            "get_id\n",
            "get_info\n",
            "get_longest_paths\n",
            "get_owner\n",
            "get_root_to_leaf_paths\n",
            "get_speaker\n",
            "get_speaker_ids\n",
            "get_speakers_dataframe\n",
            "get_subtree\n",
            "get_user\n",
            "get_usernames\n",
            "get_utterance\n",
            "get_utterance_ids\n",
            "get_utterances_dataframe\n",
            "get_vector\n",
            "has_vector\n",
            "id\n",
            "init_meta\n",
            "initialize_tree_structure\n",
            "iter_speakers\n",
            "iter_users\n",
            "iter_utterances\n",
            "meta\n",
            "obj_type\n",
            "owner\n",
            "print_conversation_stats\n",
            "print_conversation_structure\n",
            "retrieve_meta\n",
            "set_id\n",
            "set_info\n",
            "set_owner\n",
            "traverse\n",
            "tree\n",
            "vectors\n",
            "\n",
            "\n",
            "\n",
            "<class 'convokit.model.utteranceNode.UtteranceNode'>\n",
            "bfs_traversal\n",
            "children\n",
            "dfs_traversal\n",
            "post_order\n",
            "pre_order\n",
            "set_children\n",
            "utt\n",
            "{'pair_ids': [], 'success': None, 'approved_by': None, 'author_flair_css_class': None, 'author_flair_text': None, 'banned_by': None, 'controversiality': None, 'distinguished': None, 'downs': None, 'edited': None, 'gilded': None, 'likes': None, 'mod_reports': None, 'num_reports': None, 'replies': ['cnhplrm', 'cnhpp4o', 'cnhq330', 'cnhs7xb', 'cnhpnmr', 'cnhq7nv', 'cnhqcwz', 'cnhsyft', 'cnhww76', 'cnhz5wq', 'cni80dr', 'cni8e2y'], 'report_reasons': None, 'saved': None, 'score': None, 'score_hidden': None, 'subreddit': None, 'subreddit_id': None, 'ups': None, 'user_reports': None, 'subtree_size': 4096}\n",
            "\n",
            "\n",
            "\n",
            "Child type: <class 'convokit.model.utteranceNode.UtteranceNode'>\n",
            "\n",
            "\n",
            "\n",
            "I can't remember the topic that spurred this discussion, but a friend and I were debating whether man-made things were natural. He took the position that they are unnatural. \n",
            "\n",
            "He cited this definition by Merriam-Webster:  existing in nature and not made or caused by people : coming from nature (http://www.merriam-webster.com/dictionary/natural) as his basis for the distinction for natural vs. unnatural.\n",
            "\n",
            "However, I respectfully disagree with his position and furthermore that definition of natural. People arise from nature. Humankind's capacity to create, problem-solve, analyze, rationalize, and build also come from natural processes. How are the things we create unnatural? It is only through natural occurrences that we have this ability, why is it that we would give the credit of these things solely to man, as opposed to nature? We are not separate from nature, thus, how can any of our actions or creations be unnatural? If we were somehow separate from nature, I would understand the distinction between natural and man-made. However, I think unnatural and man-made are not synonyms by any means. It seems to me that man-made things MUST be natural due to our being part of nature. \n",
            "\n",
            "I would love to hear your arguments and to have my view changed if I am mistaken in my logic somewhere along the line.\n",
            "\n",
            "EDIT: Thanks for your responses lads. As many of you pointed out, our argument depends more on the context of the use of the word and I think that my friend and I were arguing about the semantics and definition more than our intended meaning behind use of the word \"natural\".\n"
          ],
          "name": "stdout"
        }
      ]
    },
    {
      "cell_type": "code",
      "metadata": {
        "id": "HiyqfM24B022"
      },
      "source": [
        ""
      ],
      "execution_count": null,
      "outputs": []
    }
  ]
}