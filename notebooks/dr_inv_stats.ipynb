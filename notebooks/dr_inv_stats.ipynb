{
  "nbformat": 4,
  "nbformat_minor": 0,
  "metadata": {
    "colab": {
      "name": "dr_inv_stats.ipynb",
      "provenance": [],
      "authorship_tag": "ABX9TyPxnUsHf4S7R8ZRwRIEonsm",
      "include_colab_link": true
    },
    "kernelspec": {
      "name": "python3",
      "display_name": "Python 3"
    },
    "language_info": {
      "name": "python"
    }
  },
  "cells": [
    {
      "cell_type": "markdown",
      "metadata": {
        "id": "view-in-github",
        "colab_type": "text"
      },
      "source": [
        "<a href=\"https://colab.research.google.com/github/Jeevesh8/arg_mining/blob/main/notebooks/dr_inv_stats.ipynb\" target=\"_parent\"><img src=\"https://colab.research.google.com/assets/colab-badge.svg\" alt=\"Open In Colab\"/></a>"
      ]
    },
    {
      "cell_type": "code",
      "metadata": {
        "id": "gnqKhKXJc3RB"
      },
      "source": [
        "!pip install transformers flax"
      ],
      "execution_count": null,
      "outputs": []
    },
    {
      "cell_type": "code",
      "metadata": {
        "id": "YzU8Bdx2c8AS"
      },
      "source": [
        "!git clone https://github.com/Jeevesh8/arg_mining"
      ],
      "execution_count": null,
      "outputs": []
    },
    {
      "cell_type": "code",
      "metadata": {
        "id": "U81HpoQwc9Zk"
      },
      "source": [
        "from arg_mining.datasets.DrInventor import load_dataset, config"
      ],
      "execution_count": null,
      "outputs": []
    },
    {
      "cell_type": "code",
      "metadata": {
        "id": "zkZUeIbSdRAI"
      },
      "source": [
        "comp_nos = {k:0 for k in config[\"arg_components\"].keys()}\n",
        "num_to_comp = {i:k for i, k in enumerate(config[\"arg_components\"].keys())}\n",
        "rel_nos = {k:0 for k in config[\"rel_type_to_id\"].keys()}\n",
        "num_to_rel_type = {i:k for i, k in enumerate(config[\"rel_type_to_id\"].keys())}"
      ],
      "execution_count": null,
      "outputs": []
    },
    {
      "cell_type": "code",
      "metadata": {
        "id": "EhqaQpJydXOR"
      },
      "source": [
        "from transformers import LongformerTokenizer\n",
        "tokenizer = LongformerTokenizer.from_pretrained('allenai/longformer-base-4096',)\n",
        "tokenizer.add_tokens(config[\"special_tokens\"])"
      ],
      "execution_count": null,
      "outputs": []
    },
    {
      "cell_type": "code",
      "metadata": {
        "id": "TUgJAKXLeAYS"
      },
      "source": [
        "train_dataset, _, _,  = load_dataset(train_sz=100,\n",
        "                                     tokenizer=tokenizer)"
      ],
      "execution_count": null,
      "outputs": []
    },
    {
      "cell_type": "code",
      "metadata": {
        "id": "WTaUS748fpK4"
      },
      "source": [
        "for paper_parts, labels, rel_anns in train_dataset:\n",
        "    for paper_part, label, rel_ann in zip(paper_parts, labels, rel_anns):\n",
        "        for rel_type, arg1_idx, arg2_idx in rel_ann:\n",
        "            if arg1_idx==0:\n",
        "                assert arg2_idx==0\n",
        "                break\n",
        "            rel_nos[num_to_rel_type[rel_type]]+=1\n",
        "        for token, comp_id in zip(paper_part, label):\n",
        "            if token==tokenizer.pad_token_id:\n",
        "                break\n",
        "            comp_nos[num_to_comp[comp_id]]+=1"
      ],
      "execution_count": null,
      "outputs": []
    },
    {
      "cell_type": "code",
      "metadata": {
        "colab": {
          "base_uri": "https://localhost:8080/"
        },
        "id": "_VQngqehgGn6",
        "outputId": "4141bb0d-475a-4610-f36d-a2f29a60e9c7"
      },
      "source": [
        "rel_nos"
      ],
      "execution_count": null,
      "outputs": [
        {
          "output_type": "execute_result",
          "data": {
            "text/plain": [
              "{'contradicts': 564, 'parts_of_same': 1049, 'supports': 4535}"
            ]
          },
          "metadata": {},
          "execution_count": 25
        }
      ]
    },
    {
      "cell_type": "code",
      "metadata": {
        "colab": {
          "base_uri": "https://localhost:8080/"
        },
        "id": "w9hplQq9jwxy",
        "outputId": "bf1887b6-5673-4c1c-d372-4f23aa7005e3"
      },
      "source": [
        "comp_nos"
      ],
      "execution_count": null,
      "outputs": [
        {
          "output_type": "execute_result",
          "data": {
            "text/plain": [
              "{'B-BC': 3215,\n",
              " 'B-D': 3994,\n",
              " 'B-OC': 5300,\n",
              " 'I-BC': 39574,\n",
              " 'I-D': 19058,\n",
              " 'I-OC': 74239,\n",
              " 'O': 153429}"
            ]
          },
          "metadata": {},
          "execution_count": 26
        }
      ]
    },
    {
      "cell_type": "code",
      "metadata": {
        "id": "Dk-10B8ojxgT"
      },
      "source": [
        ""
      ],
      "execution_count": null,
      "outputs": []
    }
  ]
}